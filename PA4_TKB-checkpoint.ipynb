{
 "cells": [
  {
   "cell_type": "markdown",
   "id": "b6f462f2",
   "metadata": {},
   "source": [
    "# Tristan Beckmann\n",
    "\n",
    "# 2023SP Computer Prog for Liberal Arts (CS-150-01)\n",
    "## Programming Assignment 3 - Version 1\n",
    "### Spring 2023"
   ]
  },
  {
   "cell_type": "markdown",
   "id": "e3880520",
   "metadata": {},
   "source": [
    "The append function adds the element to the end of the list"
   ]
  },
  {
   "cell_type": "code",
   "execution_count": 47,
   "id": "38459b5d",
   "metadata": {},
   "outputs": [
    {
     "name": "stdout",
     "output_type": "stream",
     "text": [
      "[38, 24, 67, 96, 99, 2]\n"
     ]
    }
   ],
   "source": [
    "# EXAMPLE OF APPEND\n",
    "numbers=[38,24,67,96,99]\n",
    "numbers.append(2)\n",
    "print(numbers)"
   ]
  },
  {
   "cell_type": "markdown",
   "id": "0b7e7444",
   "metadata": {},
   "source": [
    "The extend function adds one list onto another list"
   ]
  },
  {
   "cell_type": "code",
   "execution_count": 48,
   "id": "d994d99b",
   "metadata": {},
   "outputs": [
    {
     "name": "stdout",
     "output_type": "stream",
     "text": [
      "[38, 24, 67, 96, 99, 2, 31, 27, 58, 93, 4]\n"
     ]
    }
   ],
   "source": [
    "# EXAMPLE OF EXTEND\n",
    "number2=[31,27,58,93,4]\n",
    "number3=numbers+number2\n",
    "print(number3)"
   ]
  },
  {
   "cell_type": "markdown",
   "id": "8226e00e",
   "metadata": {},
   "source": [
    "The insert function inserts an element into the list at the specified index position"
   ]
  },
  {
   "cell_type": "code",
   "execution_count": 49,
   "id": "d514013e",
   "metadata": {},
   "outputs": [
    {
     "data": {
      "text/plain": [
       "[32, 38, 24, 67, 96, 99, 2, 31, 27, 58, 93, 4]"
      ]
     },
     "execution_count": 49,
     "metadata": {},
     "output_type": "execute_result"
    }
   ],
   "source": [
    "# EXAMPLE OF INSERT\n",
    "number3.insert(0, 32) # adding 32 to the start of the list\n",
    "number3"
   ]
  },
  {
   "cell_type": "markdown",
   "id": "e5683daa",
   "metadata": {},
   "source": [
    "The remove function removes an element from the list by its element name"
   ]
  },
  {
   "cell_type": "code",
   "execution_count": 50,
   "id": "6e795552",
   "metadata": {},
   "outputs": [
    {
     "data": {
      "text/plain": [
       "[38, 24, 67, 96, 99, 2, 31, 27, 58, 93, 4]"
      ]
     },
     "execution_count": 50,
     "metadata": {},
     "output_type": "execute_result"
    }
   ],
   "source": [
    "# EXAMPLE OF REMOVE\n",
    "number3.remove(32) # removing 32 from the list\n",
    "number3"
   ]
  },
  {
   "cell_type": "markdown",
   "id": "8254dcc7",
   "metadata": {},
   "source": [
    "The count function counts how many times an element appears in a list"
   ]
  },
  {
   "cell_type": "code",
   "execution_count": 52,
   "id": "7382a3cf",
   "metadata": {},
   "outputs": [
    {
     "name": "stdout",
     "output_type": "stream",
     "text": [
      "1\n"
     ]
    }
   ],
   "source": [
    "# EXAMPLE OF COUNT\n",
    "number3= numbers.count(67) # trying to see how many times 67 appears in our list\n",
    "print(number3)"
   ]
  },
  {
   "cell_type": "markdown",
   "id": "d67a7bab",
   "metadata": {},
   "source": [
    "The index function allows us to find the index number of an element given its name"
   ]
  },
  {
   "cell_type": "code",
   "execution_count": 53,
   "id": "71384b22",
   "metadata": {},
   "outputs": [
    {
     "name": "stdout",
     "output_type": "stream",
     "text": [
      "The index of s in this list is:  2\n"
     ]
    }
   ],
   "source": [
    "# EXAMPLE OF INDEX\n",
    "letters=['t', 'e', 's', 'b', 'r'] # creating a new list\n",
    "index_of_s=letters.index('s')\n",
    "print(\"The index of s in this list is: \", index_of_s)\n"
   ]
  },
  {
   "cell_type": "markdown",
   "id": "cc060cd3",
   "metadata": {},
   "source": [
    "The pop function removes an element by its index number"
   ]
  },
  {
   "cell_type": "code",
   "execution_count": 54,
   "id": "f2b547f3",
   "metadata": {},
   "outputs": [
    {
     "data": {
      "text/plain": [
       "['e', 's', 'b', 'r']"
      ]
     },
     "execution_count": 54,
     "metadata": {},
     "output_type": "execute_result"
    }
   ],
   "source": [
    "# EXAMPLE OF POP\n",
    "letters.pop(0) # removing the letter t from the list based on its index number\n",
    "letters"
   ]
  },
  {
   "cell_type": "markdown",
   "id": "7d347773",
   "metadata": {},
   "source": [
    "The sorted function temporarily sorts a list."
   ]
  },
  {
   "cell_type": "code",
   "execution_count": 55,
   "id": "c06dd893",
   "metadata": {},
   "outputs": [
    {
     "data": {
      "text/plain": [
       "['b', 'e', 'r', 's']"
      ]
     },
     "execution_count": 55,
     "metadata": {},
     "output_type": "execute_result"
    }
   ],
   "source": [
    "# EXAMPLE OF SORTED\n",
    "sorted(letters)"
   ]
  },
  {
   "cell_type": "markdown",
   "id": "6b35d0d1",
   "metadata": {},
   "source": [
    "The copy function copies a list based on its assignment to a variable."
   ]
  },
  {
   "cell_type": "code",
   "execution_count": 56,
   "id": "e02e7f88",
   "metadata": {},
   "outputs": [
    {
     "name": "stdout",
     "output_type": "stream",
     "text": [
      "['Lakers', 'Broncos', 'Yankees']\n",
      "['Lakers', 'Broncos', 'Yankees']\n"
     ]
    }
   ],
   "source": [
    "# EXAMPLE OF COPY\n",
    "\n",
    "myteams=[\"Lakers\", \"Broncos\", \"Yankees\"]\n",
    "histeams=myteams # to copy, we use a colon and a bracket\n",
    "\n",
    "print(myteams)\n",
    "print(histeams)"
   ]
  },
  {
   "cell_type": "markdown",
   "id": "7d578950",
   "metadata": {},
   "source": [
    "The clear function can clear the elements from an existing list."
   ]
  },
  {
   "cell_type": "code",
   "execution_count": 57,
   "id": "0eaaa6a9",
   "metadata": {},
   "outputs": [
    {
     "data": {
      "text/plain": [
       "[]"
      ]
     },
     "execution_count": 57,
     "metadata": {},
     "output_type": "execute_result"
    }
   ],
   "source": [
    "# EXAMPLE OF CLEAR\n",
    "\n",
    "myteams.clear()\n",
    "myteams"
   ]
  },
  {
   "cell_type": "markdown",
   "id": "9721d5b8",
   "metadata": {},
   "source": [
    "The list function can help us store multiple items in 1 variable. List by itself is a reserve keyword, so it must be attached to something."
   ]
  },
  {
   "cell_type": "code",
   "execution_count": 58,
   "id": "9003bc0a",
   "metadata": {},
   "outputs": [
    {
     "data": {
      "text/plain": [
       "['Tristan', 'John', 'Ray']"
      ]
     },
     "execution_count": 58,
     "metadata": {},
     "output_type": "execute_result"
    }
   ],
   "source": [
    "# EXAMPLE OF LIST\n",
    "list1=['Tristan', 'John', 'Ray']\n",
    "list1"
   ]
  },
  {
   "cell_type": "markdown",
   "id": "56008a2b",
   "metadata": {},
   "source": [
    "The len function finds how many elements are in the list with the element count starting at 1."
   ]
  },
  {
   "cell_type": "code",
   "execution_count": 59,
   "id": "b2a68e3c",
   "metadata": {},
   "outputs": [
    {
     "data": {
      "text/plain": [
       "3"
      ]
     },
     "execution_count": 59,
     "metadata": {},
     "output_type": "execute_result"
    }
   ],
   "source": [
    "# EXAMPLE OF LEN\n",
    "len(list1)"
   ]
  },
  {
   "cell_type": "markdown",
   "id": "010b511b",
   "metadata": {},
   "source": [
    "The minimum function finds the minimum element from a list."
   ]
  },
  {
   "cell_type": "code",
   "execution_count": 60,
   "id": "abf450b0",
   "metadata": {},
   "outputs": [
    {
     "data": {
      "text/plain": [
       "'John'"
      ]
     },
     "execution_count": 60,
     "metadata": {},
     "output_type": "execute_result"
    }
   ],
   "source": [
    "# EXAMPLE OF MINIMUM\n",
    "min(list1)"
   ]
  },
  {
   "cell_type": "markdown",
   "id": "b75f3fce",
   "metadata": {},
   "source": [
    "The maximum function finds the maximum element from a list"
   ]
  },
  {
   "cell_type": "code",
   "execution_count": 61,
   "id": "af3e7e18",
   "metadata": {},
   "outputs": [
    {
     "data": {
      "text/plain": [
       "'Tristan'"
      ]
     },
     "execution_count": 61,
     "metadata": {},
     "output_type": "execute_result"
    }
   ],
   "source": [
    "# EXAMPLE OF MAXIMUM\n",
    "max(list1)"
   ]
  }
 ],
 "metadata": {
  "kernelspec": {
   "display_name": "Python 3 (ipykernel)",
   "language": "python",
   "name": "python3"
  },
  "language_info": {
   "codemirror_mode": {
    "name": "ipython",
    "version": 3
   },
   "file_extension": ".py",
   "mimetype": "text/x-python",
   "name": "python",
   "nbconvert_exporter": "python",
   "pygments_lexer": "ipython3",
   "version": "3.9.13"
  }
 },
 "nbformat": 4,
 "nbformat_minor": 5
}
